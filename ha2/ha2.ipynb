{
  "nbformat": 4,
  "nbformat_minor": 0,
  "metadata": {
    "kernelspec": {
      "display_name": "Python 3",
      "language": "python",
      "name": "python3"
    },
    "language_info": {
      "codemirror_mode": {
        "name": "ipython",
        "version": 3
      },
      "file_extension": ".py",
      "mimetype": "text/x-python",
      "name": "python",
      "nbconvert_exporter": "python",
      "pygments_lexer": "ipython3",
      "version": "3.6.8"
    },
    "colab": {
      "name": "ha2.ipynb",
      "provenance": [],
      "collapsed_sections": []
    }
  },
  "cells": [
    {
      "cell_type": "code",
      "metadata": {
        "id": "IKMRqmssU1DC",
        "colab_type": "code",
        "colab": {}
      },
      "source": [
        "import sympy as sp\n",
        "import numpy as np\n",
        "import matplotlib.pyplot as plt\n",
        "from IPython.display import display, Markdown\n"
      ],
      "execution_count": 0,
      "outputs": []
    },
    {
      "cell_type": "markdown",
      "metadata": {
        "id": "BlShOqIMU1DG",
        "colab_type": "text"
      },
      "source": [
        "### 1. Formulate the statement of the interpolation problem with Cubic Spline [mathematical formula]"
      ]
    },
    {
      "cell_type": "markdown",
      "metadata": {
        "id": "v-NW62yjU1DL",
        "colab_type": "text"
      },
      "source": [
        "**Interpolation problem with cubic Spline** - fulfilling grid function $y_{i}$ = $f(x_{i}), i = \\overline{0,n}, x_{i}\\in[a, b]$ using Cubic Splines $S_{3}(x)\\in C_{2}[a, b]$ \n",
        "\n",
        "$S_{3,i}(x) = a_{0,i} + a_{1,i}(x - x_{i}) + a_{2,i}(x - x_{i})^2 + a_{3,i}(x - x_{i})^3$ \n",
        "\n",
        "\n"
      ]
    },
    {
      "cell_type": "markdown",
      "metadata": {
        "id": "WmLucjgZU1DM",
        "colab_type": "text"
      },
      "source": [
        "### 2. Formulate the functional and differential compatibility conditions [mathematical formula]"
      ]
    },
    {
      "cell_type": "markdown",
      "metadata": {
        "id": "4hCXA9JBU1DN",
        "colab_type": "text"
      },
      "source": [
        "###Functional condition: \n",
        "\n",
        "$\\delta S_{3,i}(x)|_{x=x_i} = S_{3,i}(x_{i})-f(x_i)=0$\n",
        "\n",
        "$\\delta S_{3,i}(x)|_{x=x_{i+1}} = S_{3,i}(x_{i+1})-f(x_i+1)=0$\n",
        "\n",
        "\n",
        "###Differential condition: \n",
        "\n",
        "$\\delta S_{3,i}''(x)|_{x=x_i} = S_{3,i}''(x_{i})-f''(x_i)=0$\n",
        "\n",
        "$\\delta S_{3,i}''(x)|_{x=x_{i+1}} = S_{3,i}''(x_{i+1})-f''(x_i+1)=0$"
      ]
    },
    {
      "cell_type": "markdown",
      "metadata": {
        "id": "suTV01XLU1DN",
        "colab_type": "text"
      },
      "source": [
        "### 3. Formulate stitching conditions [mathematical formula]"
      ]
    },
    {
      "cell_type": "markdown",
      "metadata": {
        "id": "vZ3_-ifPU1DO",
        "colab_type": "text"
      },
      "source": [
        "$S_{3,i-1}'(x)|_{x=x_i}=S_{3,i}'(x)|_{x=x_i}$"
      ]
    },
    {
      "cell_type": "markdown",
      "metadata": {
        "id": "ya1YcVSGU1DP",
        "colab_type": "text"
      },
      "source": [
        "### 4. Justify why these conditions provide you with the required smoothness [thesis text, no more than 500 characters]"
      ]
    },
    {
      "cell_type": "markdown",
      "metadata": {
        "id": "xxQXAYpaU1DQ",
        "colab_type": "text"
      },
      "source": [
        "**The functional condition** provides a solution to the interpolation problem. ($C_0$)\n",
        "\n",
        "**The differential condition** provides a continuity to a solution.($C_1$)\n",
        "\n",
        "**The stitching condition** provides smootheness to a solution.($C_2$)"
      ]
    },
    {
      "cell_type": "markdown",
      "metadata": {
        "id": "jDiG1DY1U1DR",
        "colab_type": "text"
      },
      "source": [
        "### 5. Derive dependency formula: the dependence of the second derivatives at the grid nodes on the increment of the function (the function values difference on the grid nodes). [Mathematical formulas derivation. Detailed, with clear transitions]"
      ]
    },
    {
      "cell_type": "markdown",
      "metadata": {
        "id": "6NJCmKA_xVdI",
        "colab_type": "text"
      },
      "source": [
        "$S_{3,i}(x) = a_{0,i} + a_{1,i}(x - x_{i}) + a_{2,i}(x - x_{i})^2 + a_{3,i}(x - x_{i})^3$ \n",
        "\n",
        "$S_{3,i}'(x) = a_{1,i} + 2a_{2,i}(x - x_{i}) + 3a_{3,i}(x - x_{i})^2$\n",
        "\n",
        "$S_{3,i}''(x) = 2a_{2,i} + 6a_{3,i}(x - x_{i})$\n",
        "\n",
        "Using functional and differential conditions for coefficients of polynom:\n",
        "\n",
        "$a_{0,i} - f_i = 0 $    \n",
        "\n",
        "$a_{0,i}+a_{1,i}(x_{i+1} - x_i) + a_{2,i}(x_{i+1} - x_i)^2+a_{3,i}(x_{i+1} - x_i)^3-f_{i+1}=0      $\n",
        "\n",
        "$2a_{2,i}-f''_i=0 $\n",
        "\n",
        "$2a_{2,i}+6a_{3,i}(x_{i+1}-x_i)-f''_{i+1}=0$\n",
        "\n",
        "\n",
        "Let:\n",
        "\n",
        "$m_i=f''_i$\n",
        "\n",
        "$h_{i+1}=x_{i+1}-x_i$\n",
        "\n",
        "$\\delta f_i = f_{i+1}-f_i$\n",
        "\n",
        "$\\Delta m_i = m_{i+1}-m_i$\n",
        "\n",
        "So,\n",
        "\n",
        "$S_{3,i}(x)=f_i+(\\frac{1}{h_{i+1}}\\Delta f_i - \\frac{h_{i+1}}{2}m_i - \\frac{h_{i+1}}{6}\\Delta m_i)(x-x_i) + \\frac{m_i}{2}(x-x_i)^2+ \\frac{1}{6h_{i+1}} \\Delta m_i(x-x_i)^3$\n",
        "\n",
        "\n",
        "$\\frac{ \\Delta f_i - \\Delta f_{i-1}}{h} = \\frac{h}{6}m_{i-1} + \\frac{2h}{3}m_i + \\frac{h}{6}m_{i+1}, i = \\overline{1,n-1}$"
      ]
    },
    {
      "cell_type": "markdown",
      "metadata": {
        "id": "o7I5LjRbU1DV",
        "colab_type": "text"
      },
      "source": [
        "### 6. Create a system of equations using this formula [Matrix representation. Mathematical formulas]"
      ]
    },
    {
      "cell_type": "markdown",
      "metadata": {
        "id": "uwJ_B087Joaw",
        "colab_type": "text"
      },
      "source": [
        "$\n",
        "\\left( \\begin{array}{ccc}\n",
        "\\frac{h}{6} & \\frac{2h}{3} & \\frac{h}{6} & 0 & 0 & \\ldots\\\\\n",
        "0 & \\frac{h}{6} & \\frac{2h}{3} & \\frac{h}{6} & 0 & \\ldots\\\\\n",
        "0 & 0 & \\frac{h}{6} & \\frac{2h}{3} & \\frac{h}{6} & \\ldots\\\\\n",
        "\\vdots & \\vdots & \\vdots & \\vdots & \\vdots & \\vdots\\\\\n",
        "0 & 0 & \\ldots & \\frac{2h}{3} & \\frac{h}{6} & \\frac{2h}{3}\n",
        "\\end{array} \\right)\n",
        "$\n",
        "$\n",
        "\\left( \\begin{array}{ccc}\n",
        "m_1\\\\\n",
        "m_2\\\\\n",
        "\\vdots\\\\\n",
        "m_{n-1}\n",
        "\\end{array} \\right)\n",
        "$\n",
        "$=$\n",
        "$\\left( \\begin{array}{ccc}\n",
        "\\frac{\\Delta f_1 - \\Delta f_0}{h}\\\\\n",
        "\\frac{\\Delta f_2 - \\Delta f_1}{h}\\\\\n",
        "\\vdots\\\\\n",
        "\\frac{\\Delta f_{n-1} - \\Delta f_{n-2}}{h}\n",
        "\\end{array} \\right)$"
      ]
    },
    {
      "cell_type": "markdown",
      "metadata": {
        "id": "vNfJG1FXU1DY",
        "colab_type": "text"
      },
      "source": [
        "### 7. Explain what is an unknown variable in this system. whether the system is closed with respect to an unknown variable. What is missing for closure. [Text, no more than 200 characters]"
      ]
    },
    {
      "cell_type": "markdown",
      "metadata": {
        "id": "JJ35cp1LKc21",
        "colab_type": "text"
      },
      "source": [
        "System is not closed because $m_i$ ranges from 0 to n, while we have only from 1 to n-1, so we need 2 more equations to solve\n",
        "\n",
        "**Solution:**  $m_0 = m_n = 0$ (assigning second derivatives on ends as 0)\n"
      ]
    },
    {
      "cell_type": "markdown",
      "metadata": {
        "id": "8ZiNOyCCU1Dc",
        "colab_type": "text"
      },
      "source": [
        "### 8. Bring this matrix to the appropriate form to use the Tridiagonal matrix algorithm [Mathematical derivation. Use Gauss Elimination]"
      ]
    },
    {
      "cell_type": "markdown",
      "metadata": {
        "id": "UXsjrl7DKb75",
        "colab_type": "text"
      },
      "source": [
        "$\\left(\\begin{array}{ccc}\n",
        "\\frac{2h}{3} & \\frac{h}{6} & 0 & 0 & \\ldots & \\frac{\\Delta f_1 - \\Delta f_0}{h}\\\\\n",
        "\\frac{h}{6} & \\frac{2h}{3} & \\frac{h}{6} & 0 & \\ldots & \\frac{\\Delta f_2 - \\Delta f_1}{h}\\\\\n",
        " 0 & \\frac{h}{6} & \\frac{2h}{3} & \\frac{h}{6} & \\ldots  & \\frac{\\Delta f_3 - \\Delta f_2}{h}\\\\\n",
        "\\vdots & \\vdots & \\vdots & \\vdots & \\vdots & \\vdots\\\\\n",
        "0 & 0 & \\ldots & \\frac{2h}{3} & \\frac{h}{6} & \\frac{\\Delta f_{n-1} - \\Delta f_{n-2}}{h}\n",
        "\\end{array} \\right)$"
      ]
    },
    {
      "cell_type": "markdown",
      "metadata": {
        "id": "pzi96Aa8U1Di",
        "colab_type": "text"
      },
      "source": [
        "### 9. Derive formulas of direct pass and reverse pass of Tridiagonal matrix algorithm [Mathematical formals]"
      ]
    },
    {
      "cell_type": "markdown",
      "metadata": {
        "id": "5TB9UD24M1k9",
        "colab_type": "text"
      },
      "source": [
        "Direct pass: \n",
        "\n",
        "$P_i = \\frac{\\gamma_i}{\\beta_i - \\alpha_i P_{i-1}}, \\ Q_i = \\frac{\\alpha_i Q_{i-1} - \\delta_i}{\\beta_i - \\alpha_i P_{i-1}}, \\ i = \\overline{1,n-1}$\n",
        "\n",
        "Reverse pass: \n",
        "\n",
        "$x_n = \\frac{\\alpha_n Q_{n-1} - \\delta_n}{\\beta_n - \\alpha_n P_{i-1}}$"
      ]
    },
    {
      "cell_type": "markdown",
      "metadata": {
        "id": "NYF2cz1AU1Dm",
        "colab_type": "text"
      },
      "source": [
        "### 10. Implement code prototype of the future algorithm implementation. Classes/methods (if you use OOP), functions. The final implementation (on language chosen by you) should not differ from the functions declared in the prototype. [Python code]"
      ]
    },
    {
      "cell_type": "code",
      "metadata": {
        "id": "wwZb82AfQpa_",
        "colab_type": "code",
        "colab": {}
      },
      "source": [
        "def tridiagonal\n",
        "  pass\n",
        "def calc_coeffs\n",
        "  pass\n",
        "def spline\n",
        "  pass\n"
      ],
      "execution_count": 0,
      "outputs": []
    },
    {
      "cell_type": "markdown",
      "metadata": {
        "id": "aBb6b3R1U1Dq",
        "colab_type": "text"
      },
      "source": [
        "### 11. Derive formula of Cubic Spline method error [Mathematical formulas]"
      ]
    },
    {
      "cell_type": "markdown",
      "metadata": {
        "id": "JegGpeWBM3_l",
        "colab_type": "text"
      },
      "source": [
        "$||f^{(p)}(x) - S^{(p)}_3(x)||_{C[a,b]} = \\max_{[a,b]}|f^{(p)}(x)-S^{(p)}_3(x)| \\leq M_4 h^{}$"
      ]
    },
    {
      "cell_type": "markdown",
      "metadata": {
        "id": "2mn1GLilU1Dv",
        "colab_type": "text"
      },
      "source": [
        "### 12. Rate the complexity of the algorithm [Text, and rate in terms of big O, no more than 100 characters]"
      ]
    },
    {
      "cell_type": "markdown",
      "metadata": {
        "id": "XUb1RxJOMHuk",
        "colab_type": "text"
      },
      "source": [
        "**Direct pass** - O(N)\n",
        "\n",
        "**Reverse pass** - O(N)\n",
        "\n",
        "**Total:** O(N)"
      ]
    },
    {
      "cell_type": "markdown",
      "metadata": {
        "id": "XhrPxJ2KU1Dy",
        "colab_type": "text"
      },
      "source": [
        "### Congrats!"
      ]
    }
  ]
}